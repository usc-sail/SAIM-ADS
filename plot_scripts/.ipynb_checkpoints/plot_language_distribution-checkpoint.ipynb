{
 "cells": [
  {
   "cell_type": "code",
   "execution_count": 1,
   "id": "7aebfda9",
   "metadata": {},
   "outputs": [],
   "source": [
    "import json \n",
    "import pandas as pd \n"
   ]
  },
  {
   "cell_type": "code",
   "execution_count": 2,
   "id": "c0e7c33e",
   "metadata": {},
   "outputs": [],
   "source": [
    "language_json_file=\"/proj/digbose92/ads_repo/ads_codes/SAIM-ADS/data/SAIM_data/language_metadata/language_detection_whisper.json\"\n",
    "with open(language_json_file,\"r\") as f:\n",
    "    language_data=json.load(f)"
   ]
  },
  {
   "cell_type": "code",
   "execution_count": 6,
   "id": "ff1f2da4",
   "metadata": {},
   "outputs": [
    {
     "name": "stderr",
     "output_type": "stream",
     "text": [
      "100%|██████████████████████████████████████████████████████████████████████████████████████████████████████████████████████████████████████████████████████████████████████| 8400/8400 [00:00<00:00, 15011.87it/s]\n"
     ]
    }
   ],
   "source": [
    "from tqdm import tqdm\n",
    "import os \n",
    "\n",
    "lan_list=[]\n",
    "csv_file=\"/proj/digbose92/ads_repo/ads_codes/SAIM-ADS/data/SAIM_data/SAIM_multi_task_tone_soc_message_topic_data_no_zero_files.csv\"\n",
    "saim_data=pd.read_csv(csv_file)\n",
    "clip_key_list=[os.path.splitext(f.split(\"/\")[-1])[0] for f in list(saim_data['clip_feature_path'])]\n",
    "\n",
    "for key in tqdm(list(language_data.keys())):\n",
    "    if key in clip_key_list:\n",
    "        lan_list.append(language_data[key]['label'])"
   ]
  },
  {
   "cell_type": "code",
   "execution_count": 7,
   "id": "8f660efc",
   "metadata": {},
   "outputs": [
    {
     "data": {
      "text/plain": [
       "8399"
      ]
     },
     "execution_count": 7,
     "metadata": {},
     "output_type": "execute_result"
    }
   ],
   "source": [
    "len(lan_list)"
   ]
  },
  {
   "cell_type": "code",
   "execution_count": 9,
   "id": "b4000939",
   "metadata": {},
   "outputs": [],
   "source": [
    "#fleur id to lan mapping\n",
    "\n",
    "mapping_file=\"/proj/digbose92/ads_repo/ads_codes/SAIM-ADS/data/SAIM_data/language_metadata/FLEURS_id_to_lang.json\"\n",
    "with open(mapping_file,\"r\") as f:\n",
    "    lang_mapping=json.load(f)\n",
    "\n",
    "lang_mapping_list=[]\n",
    "lang_no_mapping_list=[]\n",
    "\n",
    "\n",
    "for l in lan_list:\n",
    "    if(l in lang_mapping):\n",
    "        lang_mapping_list.append(lang_mapping[l])\n",
    "    else:\n",
    "        lang_no_mapping_list.append(l)\n",
    "#language_mapping_list=[lang_mapping[l] for l in lan_list]"
   ]
  },
  {
   "cell_type": "code",
   "execution_count": 10,
   "id": "f8b37f23",
   "metadata": {},
   "outputs": [
    {
     "data": {
      "text/plain": [
       "8031"
      ]
     },
     "execution_count": 10,
     "metadata": {},
     "output_type": "execute_result"
    }
   ],
   "source": []
  },
  {
   "cell_type": "code",
   "execution_count": 12,
   "id": "07d5bb55",
   "metadata": {},
   "outputs": [
    {
     "name": "stdout",
     "output_type": "stream",
     "text": [
      "Counter({'nn': 163, 'zh': 99, 'la': 39, 'jw': 25, 'no': 16, 'tl': 15, 'si': 4, 'haw': 3, 'br': 2, 'eu': 1, 'sq': 1})\n"
     ]
    }
   ],
   "source": [
    "from collections import Counter\n",
    "print(Counter(lang_no_mapping_list))"
   ]
  },
  {
   "cell_type": "code",
   "execution_count": 14,
   "id": "6eb451cf",
   "metadata": {},
   "outputs": [],
   "source": [
    "dict_mapping=dict(Counter(lang_mapping_list).most_common(100))"
   ]
  },
  {
   "cell_type": "code",
   "execution_count": 18,
   "id": "de2a265d",
   "metadata": {},
   "outputs": [
    {
     "ename": "SyntaxError",
     "evalue": "invalid syntax (3239010895.py, line 1)",
     "output_type": "error",
     "traceback": [
      "\u001b[0;36m  Cell \u001b[0;32mIn[18], line 1\u001b[0;36m\u001b[0m\n\u001b[0;31m    dict_map=pd.DataFrame{\u001b[0m\n\u001b[0m                         ^\u001b[0m\n\u001b[0;31mSyntaxError\u001b[0m\u001b[0;31m:\u001b[0m invalid syntax\n"
     ]
    }
   ],
   "source": [
    "dict_map=pd.DataFrame{\n",
    "    'Language': list(dict_mapping.keys()),\n",
    "    'Counts': list(dict_mapping.values())\n",
    "}"
   ]
  },
  {
   "cell_type": "code",
   "execution_count": null,
   "id": "d554cc77",
   "metadata": {},
   "outputs": [],
   "source": []
  }
 ],
 "metadata": {
  "kernelspec": {
   "display_name": "Python 3 (ipykernel)",
   "language": "python",
   "name": "python3"
  },
  "language_info": {
   "codemirror_mode": {
    "name": "ipython",
    "version": 3
   },
   "file_extension": ".py",
   "mimetype": "text/x-python",
   "name": "python",
   "nbconvert_exporter": "python",
   "pygments_lexer": "ipython3",
   "version": "3.8.13"
  }
 },
 "nbformat": 4,
 "nbformat_minor": 5
}
