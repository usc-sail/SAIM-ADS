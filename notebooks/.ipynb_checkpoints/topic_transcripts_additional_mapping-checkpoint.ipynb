{
 "cells": [
  {
   "cell_type": "code",
   "execution_count": 2,
   "id": "817f4511",
   "metadata": {},
   "outputs": [],
   "source": [
    "import pandas as pd \n",
    "import numpy as np \n",
    "import os \n",
    "import pickle "
   ]
  },
  {
   "cell_type": "code",
   "execution_count": 7,
   "id": "f3cd2b31",
   "metadata": {},
   "outputs": [],
   "source": [
    "#read the csv file \n",
    "csv_file=\"/data/digbose92/ads_complete_repo/ads_codes/SAIM-ADS/data/SAIM_data/SAIM_multi_task_tone_soc_message_topic_data.csv\"\n",
    "SAIM_data=pd.read_csv(csv_file)"
   ]
  },
  {
   "cell_type": "raw",
   "id": "4f1688a0",
   "metadata": {},
   "source": [
    "SAIM_data.shape"
   ]
  },
  {
   "cell_type": "code",
   "execution_count": 8,
   "id": "32fdee09",
   "metadata": {},
   "outputs": [
    {
     "data": {
      "text/plain": [
       "(8400, 11)"
      ]
     },
     "execution_count": 8,
     "metadata": {},
     "output_type": "execute_result"
    }
   ],
   "source": [
    "SAIM_data.shape"
   ]
  },
  {
   "cell_type": "code",
   "execution_count": 12,
   "id": "8f53c71c",
   "metadata": {},
   "outputs": [
    {
     "data": {
      "text/plain": [
       "Index(['Unnamed: 0', 'video_file', 'start_tone', 'middle_tone', 'end_tone',\n",
       "       'Transition_val', 'social_message', 'Topic', 'Split',\n",
       "       'clip_feature_path', 'Link'],\n",
       "      dtype='object')"
      ]
     },
     "execution_count": 12,
     "metadata": {},
     "output_type": "execute_result"
    }
   ],
   "source": [
    "SAIM_data.columns"
   ]
  },
  {
   "cell_type": "code",
   "execution_count": 13,
   "id": "6fb80043",
   "metadata": {},
   "outputs": [],
   "source": [
    "topic_list=list(set(SAIM_data['Topic']))"
   ]
  },
  {
   "cell_type": "code",
   "execution_count": 14,
   "id": "e2f199dd",
   "metadata": {},
   "outputs": [
    {
     "data": {
      "text/plain": [
       "['Games',\n",
       " 'Household',\n",
       " 'Services',\n",
       " 'Misc',\n",
       " 'Sports',\n",
       " 'Banking',\n",
       " 'Clothing',\n",
       " 'Industrial and agriculture',\n",
       " 'Leisure',\n",
       " 'Publications media',\n",
       " 'Health',\n",
       " 'Car',\n",
       " 'Electronics',\n",
       " 'Cosmetics',\n",
       " 'Food and drink',\n",
       " 'Awareness',\n",
       " 'Travel and transport',\n",
       " 'Retail']"
      ]
     },
     "execution_count": 14,
     "metadata": {},
     "output_type": "execute_result"
    }
   ],
   "source": [
    "topic_list"
   ]
  },
  {
   "cell_type": "code",
   "execution_count": 15,
   "id": "c352873e",
   "metadata": {},
   "outputs": [],
   "source": [
    "topic_dict={v:k for k,v in enumerate(topic_list)}"
   ]
  },
  {
   "cell_type": "code",
   "execution_count": 16,
   "id": "8d8a9076",
   "metadata": {},
   "outputs": [
    {
     "data": {
      "text/plain": [
       "{'Games': 0,\n",
       " 'Household': 1,\n",
       " 'Services': 2,\n",
       " 'Misc': 3,\n",
       " 'Sports': 4,\n",
       " 'Banking': 5,\n",
       " 'Clothing': 6,\n",
       " 'Industrial and agriculture': 7,\n",
       " 'Leisure': 8,\n",
       " 'Publications media': 9,\n",
       " 'Health': 10,\n",
       " 'Car': 11,\n",
       " 'Electronics': 12,\n",
       " 'Cosmetics': 13,\n",
       " 'Food and drink': 14,\n",
       " 'Awareness': 15,\n",
       " 'Travel and transport': 16,\n",
       " 'Retail': 17}"
      ]
     },
     "execution_count": 16,
     "metadata": {},
     "output_type": "execute_result"
    }
   ],
   "source": [
    "topic_dict"
   ]
  },
  {
   "cell_type": "code",
   "execution_count": 19,
   "id": "c8238b50",
   "metadata": {},
   "outputs": [],
   "source": [
    "#save the topic_dict as a json \n",
    "import json\n",
    "with open(\"../data/topic_list_18.json\", \"w\") as f:\n",
    "    json.dump(topic_dict,f,indent=4)"
   ]
  },
  {
   "cell_type": "code",
   "execution_count": 15,
   "id": "8150a7e1",
   "metadata": {},
   "outputs": [
    {
     "name": "stdout",
     "output_type": "stream",
     "text": [
      "15398\n"
     ]
    }
   ],
   "source": [
    "# add transcripts path here to the file \n",
    "\n",
    "transcripts_location_jwt_ads_of_world=\"/data/digbose92/ads_complete_repo/ads_transcripts/whisper/jwt_ads_of_the_world\"\n",
    "transcripts_location_cvpr=\"/data/digbose92/ads_complete_repo/ads_transcripts/whisper/cvpr_ads\"\n",
    "\n",
    "\n",
    "jwt_ads_of_world_transcript_list=os.listdir(transcripts_location_jwt_ads_of_world)\n",
    "cvpr_transcript_list=os.listdir(transcripts_location_cvpr)\n",
    "\n",
    "#file keys\n",
    "jwt_ads_of_world_transcript_keys=[os.path.splitext(f)[0] for f in jwt_ads_of_world_transcript_list]\n",
    "cvpr_transcript_keys=[os.path.splitext(f)[0] for f in cvpr_transcript_list]\n",
    "\n",
    "#total transcripts file list\n",
    "total_transcripts_file_list=[os.path.join(transcripts_location_jwt_ads_of_world,f) for f in jwt_ads_of_world_transcript_list] + [os.path.join(transcripts_location_cvpr,f) for f in cvpr_transcript_list]\n",
    "print(len(total_transcripts_file_list))"
   ]
  },
  {
   "cell_type": "code",
   "execution_count": 10,
   "id": "7bc157d0",
   "metadata": {},
   "outputs": [
    {
     "name": "stdout",
     "output_type": "stream",
     "text": [
      "SAIM_ADS_available_web_links.json\r\n",
      "SAIM_ads_data_message_tone.csv\r\n",
      "SAIM_ads_data_message_tone_train_test_val_clip_features.csv\r\n",
      "SAIM_ads_data_message_tone_train_test_val_clip_features_links_augmented.csv\r\n",
      "SAIM_ads_data_message_tone_train_test_val.csv\r\n",
      "SAIM_multi_task_tone_soc_message_topic_data.csv\r\n"
     ]
    }
   ],
   "source": [
    "ls /data/digbose92/ads_complete_repo/ads_codes/SAIM-ADS/data/SAIM_data"
   ]
  },
  {
   "cell_type": "code",
   "execution_count": 17,
   "id": "59ebfd40",
   "metadata": {},
   "outputs": [
    {
     "data": {
      "text/plain": [
       "['gonzo_saves_from_hunger',\n",
       " 'cherkashin_got_it',\n",
       " 'farmers_insurance_am_i_in_a_farmers_commercial',\n",
       " 'sony_eeny_meeny_miny_moe',\n",
       " 'sony_smoldering_rubber']"
      ]
     },
     "execution_count": 17,
     "metadata": {},
     "output_type": "execute_result"
    }
   ],
   "source": [
    "jwt_ads_of_world_transcript_keys[0:5]"
   ]
  },
  {
   "cell_type": "code",
   "execution_count": 23,
   "id": "28281771",
   "metadata": {},
   "outputs": [
    {
     "name": "stderr",
     "output_type": "stream",
     "text": [
      "100%|███████████████████████████████████████████████████████████████████████████████████████████████████████████| 8400/8400 [00:01<00:00, 5176.42it/s]\n"
     ]
    }
   ],
   "source": [
    "transcript_filename_list=[]\n",
    "\n",
    "from tqdm import tqdm\n",
    "for i in tqdm(np.arange(SAIM_data.shape[0])):\n",
    "    \n",
    "    #video transcript key\n",
    "    video_file=SAIM_data['video_file'].iloc[i]\n",
    "    key=os.path.splitext(video_file)[0]\n",
    "    \n",
    "    if(key in jwt_ads_of_world_transcript_keys):\n",
    "        \n",
    "        index_key=jwt_ads_of_world_transcript_keys.index(key)\n",
    "        transcript_filename=os.path.join(transcripts_location_jwt_ads_of_world,jwt_ads_of_world_transcript_list[index_key])\n",
    "        \n",
    "    elif(key in cvpr_transcript_keys):\n",
    "        \n",
    "        index_key=cvpr_transcript_keys.index(key)\n",
    "        transcript_filename=os.path.join(transcripts_location_cvpr,cvpr_transcript_list[index_key])\n",
    "        \n",
    "    transcript_filename_list.append(transcript_filename)\n",
    "        \n",
    "    \n",
    "SAIM_data['Transcript']=transcript_filename_list   "
   ]
  },
  {
   "cell_type": "code",
   "execution_count": 22,
   "id": "435d5750",
   "metadata": {},
   "outputs": [
    {
     "data": {
      "text/plain": [
       "['/data/digbose92/ads_complete_repo/ads_transcripts/whisper/jwt_ads_of_the_world/toyota_esperas.txt',\n",
       " '/data/digbose92/ads_complete_repo/ads_transcripts/whisper/jwt_ads_of_the_world/renault_real_life_doubles_lunch_with_the_inlaws.txt',\n",
       " '/data/digbose92/ads_complete_repo/ads_transcripts/whisper/jwt_ads_of_the_world/brawny_once_a_mother_always_a_giant.txt',\n",
       " '/data/digbose92/ads_complete_repo/ads_transcripts/whisper/jwt_ads_of_the_world/renault_wake_up_your_passion.txt',\n",
       " '/data/digbose92/ads_complete_repo/ads_transcripts/whisper/jwt_ads_of_the_world/west_elm_get_house_proud.txt']"
      ]
     },
     "execution_count": 22,
     "metadata": {},
     "output_type": "execute_result"
    }
   ],
   "source": [
    "transcript_filename_list[0:5]"
   ]
  },
  {
   "cell_type": "code",
   "execution_count": 24,
   "id": "40f8a3ef",
   "metadata": {},
   "outputs": [],
   "source": [
    "#save the data with transcripts path also\n",
    "\n",
    "SAIM_data.to_csv(\"../data/SAIM_data/SAIM_multi_task_tone_soc_message_topic_data_transcripts_augmented.csv\")"
   ]
  },
  {
   "cell_type": "code",
   "execution_count": 25,
   "id": "a33c185d",
   "metadata": {},
   "outputs": [],
   "source": [
    "#check the non intersecting nature between train, test, val \n",
    "\n",
    "train_data=SAIM_data[SAIM_data['Split']=='train']\n",
    "val_data=SAIM_data[SAIM_data['Split']=='val']\n",
    "test_data=SAIM_data[SAIM_data['Split']=='test']\n"
   ]
  },
  {
   "cell_type": "code",
   "execution_count": 26,
   "id": "26c2325e",
   "metadata": {},
   "outputs": [],
   "source": [
    "train_video_keys=[os.path.splitext(vid_file)[0] for vid_file in list(train_data['video_file'])]\n",
    "test_video_keys=[os.path.splitext(vid_file)[0] for vid_file in list(test_data['video_file'])]\n",
    "val_video_keys=[os.path.splitext(vid_file)[0] for vid_file in list(val_data['video_file'])]"
   ]
  },
  {
   "cell_type": "code",
   "execution_count": 28,
   "id": "ce0fea02",
   "metadata": {},
   "outputs": [
    {
     "name": "stdout",
     "output_type": "stream",
     "text": [
      "5878 5878\n",
      "830 830\n",
      "1692 1692\n"
     ]
    }
   ],
   "source": [
    "print(len(train_video_keys),len(set(train_video_keys)))\n",
    "print(len(val_video_keys),len(set(val_video_keys)))\n",
    "print(len(test_video_keys),len(set(test_video_keys)))"
   ]
  },
  {
   "cell_type": "code",
   "execution_count": 29,
   "id": "da0552e0",
   "metadata": {},
   "outputs": [
    {
     "name": "stdout",
     "output_type": "stream",
     "text": [
      "0\n"
     ]
    }
   ],
   "source": [
    "print(len(set(train_video_keys) & set(test_video_keys)))"
   ]
  },
  {
   "cell_type": "code",
   "execution_count": 30,
   "id": "9d07f94f",
   "metadata": {},
   "outputs": [
    {
     "name": "stdout",
     "output_type": "stream",
     "text": [
      "0\n"
     ]
    }
   ],
   "source": [
    "print(len(set(train_video_keys) & set(val_video_keys)))"
   ]
  },
  {
   "cell_type": "code",
   "execution_count": null,
   "id": "ac4a71d2",
   "metadata": {},
   "outputs": [],
   "source": [
    "print(len(set(test_video_keys) & set(val_video_keys)))"
   ]
  }
 ],
 "metadata": {
  "kernelspec": {
   "display_name": "Python 3 (ipykernel)",
   "language": "python",
   "name": "python3"
  },
  "language_info": {
   "codemirror_mode": {
    "name": "ipython",
    "version": 3
   },
   "file_extension": ".py",
   "mimetype": "text/x-python",
   "name": "python",
   "nbconvert_exporter": "python",
   "pygments_lexer": "ipython3",
   "version": "3.8.16"
  }
 },
 "nbformat": 4,
 "nbformat_minor": 5
}
