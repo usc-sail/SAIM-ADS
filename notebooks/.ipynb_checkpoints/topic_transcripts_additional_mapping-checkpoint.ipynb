{
 "cells": [
  {
   "cell_type": "code",
   "execution_count": 7,
   "id": "817f4511",
   "metadata": {},
   "outputs": [],
   "source": [
    "import pandas as pd \n",
    "import numpy as np \n",
    "import os \n",
    "import pickle "
   ]
  },
  {
   "cell_type": "code",
   "execution_count": 10,
   "id": "f3cd2b31",
   "metadata": {},
   "outputs": [],
   "source": [
    "#read the csv file \n",
    "csv_file=\"/data/digbose92/ads_complete_repo/ads_codes/SAIM-ADS/data/SAIM_data/SAIM_multi_task_tone_soc_message_data.csv\"\n",
    "SAIM_data=pd.read_csv(csv_file)"
   ]
  },
  {
   "cell_type": "raw",
   "id": "4f1688a0",
   "metadata": {},
   "source": [
    "SAIM_data.shape"
   ]
  },
  {
   "cell_type": "code",
   "execution_count": 11,
   "id": "143660bc",
   "metadata": {},
   "outputs": [
    {
     "data": {
      "text/plain": [
       "(8400, 11)"
      ]
     },
     "execution_count": 11,
     "metadata": {},
     "output_type": "execute_result"
    }
   ],
   "source": [
    "SAIM_data.shape"
   ]
  },
  {
   "cell_type": "code",
   "execution_count": 12,
   "id": "d77bcf96",
   "metadata": {},
   "outputs": [
    {
     "data": {
      "text/plain": [
       "Index(['Unnamed: 0', 'video_file', 'start_tone', 'middle_tone', 'end_tone',\n",
       "       'Transition_val', 'social_message', 'Topic', 'Split',\n",
       "       'clip_feature_path', 'Link'],\n",
       "      dtype='object')"
      ]
     },
     "execution_count": 12,
     "metadata": {},
     "output_type": "execute_result"
    }
   ],
   "source": [
    "SAIM_data.columns"
   ]
  },
  {
   "cell_type": "code",
   "execution_count": 13,
   "id": "4e021be6",
   "metadata": {},
   "outputs": [],
   "source": [
    "topic_list=list(set(SAIM_data['Topic']))"
   ]
  },
  {
   "cell_type": "code",
   "execution_count": 14,
   "id": "84077d6d",
   "metadata": {},
   "outputs": [
    {
     "data": {
      "text/plain": [
       "['Games',\n",
       " 'Household',\n",
       " 'Services',\n",
       " 'Misc',\n",
       " 'Sports',\n",
       " 'Banking',\n",
       " 'Clothing',\n",
       " 'Industrial and agriculture',\n",
       " 'Leisure',\n",
       " 'Publications media',\n",
       " 'Health',\n",
       " 'Car',\n",
       " 'Electronics',\n",
       " 'Cosmetics',\n",
       " 'Food and drink',\n",
       " 'Awareness',\n",
       " 'Travel and transport',\n",
       " 'Retail']"
      ]
     },
     "execution_count": 14,
     "metadata": {},
     "output_type": "execute_result"
    }
   ],
   "source": [
    "topic_list"
   ]
  },
  {
   "cell_type": "code",
   "execution_count": 15,
   "id": "b579adc8",
   "metadata": {},
   "outputs": [],
   "source": [
    "topic_dict={v:k for k,v in enumerate(topic_list)}"
   ]
  },
  {
   "cell_type": "code",
   "execution_count": 16,
   "id": "baf777e6",
   "metadata": {},
   "outputs": [
    {
     "data": {
      "text/plain": [
       "{'Games': 0,\n",
       " 'Household': 1,\n",
       " 'Services': 2,\n",
       " 'Misc': 3,\n",
       " 'Sports': 4,\n",
       " 'Banking': 5,\n",
       " 'Clothing': 6,\n",
       " 'Industrial and agriculture': 7,\n",
       " 'Leisure': 8,\n",
       " 'Publications media': 9,\n",
       " 'Health': 10,\n",
       " 'Car': 11,\n",
       " 'Electronics': 12,\n",
       " 'Cosmetics': 13,\n",
       " 'Food and drink': 14,\n",
       " 'Awareness': 15,\n",
       " 'Travel and transport': 16,\n",
       " 'Retail': 17}"
      ]
     },
     "execution_count": 16,
     "metadata": {},
     "output_type": "execute_result"
    }
   ],
   "source": [
    "topic_dict"
   ]
  },
  {
   "cell_type": "code",
   "execution_count": 18,
   "id": "28196eb4",
   "metadata": {},
   "outputs": [],
   "source": [
    "#save the topic_dict as a json \n",
    "import json\n",
    "with open(\"../data/topic_list_18.json\", \"w\") as f:\n",
    "    json.dump(topic_dict,f,indent=4)"
   ]
  },
  {
   "cell_type": "code",
   "execution_count": null,
   "id": "90b032b3",
   "metadata": {},
   "outputs": [],
   "source": []
  }
 ],
 "metadata": {
  "kernelspec": {
   "display_name": "Python 3 (ipykernel)",
   "language": "python",
   "name": "python3"
  },
  "language_info": {
   "codemirror_mode": {
    "name": "ipython",
    "version": 3
   },
   "file_extension": ".py",
   "mimetype": "text/x-python",
   "name": "python",
   "nbconvert_exporter": "python",
   "pygments_lexer": "ipython3",
   "version": "3.8.16"
  }
 },
 "nbformat": 4,
 "nbformat_minor": 5
}
