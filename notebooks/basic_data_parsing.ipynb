{
 "cells": [
  {
   "cell_type": "code",
   "execution_count": 28,
   "id": "38ae2cce",
   "metadata": {},
   "outputs": [],
   "source": [
    "import os \n",
    "import pandas as pd \n",
    "import numpy as np \n",
    "import pickle"
   ]
  },
  {
   "cell_type": "code",
   "execution_count": 29,
   "id": "640b070e",
   "metadata": {},
   "outputs": [
    {
     "name": "stdout",
     "output_type": "stream",
     "text": [
      "['Set_11_15.pkl', 'Set_16_20.pkl', 'Set_21_25.pkl', 'Set_26_30.pkl', 'Set_31_35.pkl', 'Set_36_40.pkl', 'Set_41_45.pkl', 'Set_46_50.pkl', 'Set_51_55.pkl', 'Set_56_60.pkl', 'Set_61_65.pkl', 'Set_6_10.pkl', 'Set_71_75.pkl', 'Set_76_80.pkl', 'Set_81_85.pkl', 'Set_test_ads_0.pkl', 'Set_test_ads_1.pkl']\n"
     ]
    }
   ],
   "source": [
    "base_folder=\"/data/digbose92/ads_complete_repo/ads_latest_annotations/ads_completed_annotation_v1/ads_annotation_pkl_files\" #loactions of the pickle files containing the parsed labels\n",
    "file_list=os.listdir(base_folder)\n",
    "print(sorted(file_list))\n",
    "\n",
    "#need to add set 5 data here to the list of pickle files"
   ]
  },
  {
   "cell_type": "code",
   "execution_count": 30,
   "id": "ca21e93b",
   "metadata": {},
   "outputs": [
    {
     "name": "stderr",
     "output_type": "stream",
     "text": [
      "100%|███████████████████████████████████████████████████████████████████████████████████████████████████████████████████████████████████████████████████████████████████████████████| 17/17 [00:00<00:00, 126.96it/s]\n"
     ]
    }
   ],
   "source": [
    "#read one pickle file and check the details \n",
    "from collections import Counter\n",
    "from tqdm import tqdm \n",
    "\n",
    "number_files=0\n",
    "\n",
    "social_message_list=[]\n",
    "transition_list=[]\n",
    "start_transition_list=[] #holds majority start labels for advertisement videos\n",
    "middle_transition_list=[] #holds majority middle labels for advertisement videos\n",
    "end_transition_list=[]#holds majority end labels for advertisement videos\n",
    "\n",
    "for file in tqdm(file_list):\n",
    "    pkl_file=os.path.join(base_folder,file)\n",
    "    \n",
    "    with open(pkl_file,\"rb\") as f:\n",
    "        current_split_data=pickle.load(f)\n",
    "        \n",
    "    number_files=number_files+len(current_split_data.keys())\n",
    "    #list of keys for current split data\n",
    "    key_list=sorted(list(current_split_data.keys()))\n",
    "    \n",
    "    \n",
    "    for key in key_list:\n",
    "        #print(current_split_data[key]['Start'])\n",
    "        \n",
    "        #start majority tone\n",
    "        start_tone=current_split_data[key]['Start']['Majority_tone']\n",
    "        #middle majority tone\n",
    "        middle_tone=current_split_data[key]['Middle']['Majority_tone']\n",
    "        #ending majority tone\n",
    "        end_tone=current_split_data[key]['End']['Majority_tone']\n",
    "        \n",
    "        if((start_tone==middle_tone) and (middle_tone==end_tone)):\n",
    "            transition_list.append('No transition')\n",
    "        else:\n",
    "            transition_list.append('Transition')\n",
    "            start_transition_list.append(start_tone)\n",
    "            middle_transition_list.append(middle_tone)\n",
    "            end_transition_list.append(end_tone)\n",
    "        \n",
    "        #extract majority social message label for every advertisement video\n",
    "        social_message_list.append(current_split_data[key]['Social_message']['Majority_message'])\n",
    "        "
   ]
  },
  {
   "cell_type": "code",
   "execution_count": 21,
   "id": "3f7e6ad5",
   "metadata": {},
   "outputs": [
    {
     "data": {
      "text/plain": [
       "Counter({'No': 7697, 'Yes': 761})"
      ]
     },
     "execution_count": 21,
     "metadata": {},
     "output_type": "execute_result"
    }
   ],
   "source": [
    "#check distribution of social messages\n",
    "Counter(social_message_list)\n",
    "\n",
    "#7697 videos don't have any social message and 761 videos have social message"
   ]
  },
  {
   "cell_type": "code",
   "execution_count": 27,
   "id": "b2e66bf5",
   "metadata": {},
   "outputs": [
    {
     "data": {
      "text/plain": [
       "Counter({'No transition': 4582, 'Transition': 3876})"
      ]
     },
     "execution_count": 27,
     "metadata": {},
     "output_type": "execute_result"
    }
   ],
   "source": [
    "#need to check the number of videos with tone transitions (as defined by majority start, middle and end annotations)\n",
    "Counter(transition_list)\n"
   ]
  },
  {
   "cell_type": "code",
   "execution_count": 31,
   "id": "a6d563a8",
   "metadata": {},
   "outputs": [
    {
     "name": "stdout",
     "output_type": "stream",
     "text": [
      "Counter({'neutral': 1731, 'negative': 1077, 'positive': 1068})\n",
      "Counter({'positive': 1718, 'negative': 1419, 'neutral': 739})\n",
      "Counter({'positive': 2849, 'neutral': 615, 'negative': 412})\n"
     ]
    }
   ],
   "source": [
    "#check the distribution of start, middle and end for cases with transitions\n",
    "\n",
    "print(Counter(start_transition_list))\n",
    "print(Counter(middle_transition_list))\n",
    "print(Counter(end_transition_list))"
   ]
  },
  {
   "cell_type": "code",
   "execution_count": 32,
   "id": "88dff222",
   "metadata": {},
   "outputs": [
    {
     "data": {
      "text/plain": [
       "8458"
      ]
     },
     "execution_count": 32,
     "metadata": {},
     "output_type": "execute_result"
    }
   ],
   "source": [
    "7697+761"
   ]
  },
  {
   "cell_type": "code",
   "execution_count": 33,
   "id": "80946f90",
   "metadata": {},
   "outputs": [
    {
     "data": {
      "text/plain": [
       "3876"
      ]
     },
     "execution_count": 33,
     "metadata": {},
     "output_type": "execute_result"
    }
   ],
   "source": [
    "1731+1077+1068"
   ]
  },
  {
   "cell_type": "code",
   "execution_count": null,
   "id": "9111d24a",
   "metadata": {},
   "outputs": [],
   "source": []
  }
 ],
 "metadata": {
  "kernelspec": {
   "display_name": "Python 3 (ipykernel)",
   "language": "python",
   "name": "python3"
  },
  "language_info": {
   "codemirror_mode": {
    "name": "ipython",
    "version": 3
   },
   "file_extension": ".py",
   "mimetype": "text/x-python",
   "name": "python",
   "nbconvert_exporter": "python",
   "pygments_lexer": "ipython3",
   "version": "3.8.16"
  }
 },
 "nbformat": 4,
 "nbformat_minor": 5
}
