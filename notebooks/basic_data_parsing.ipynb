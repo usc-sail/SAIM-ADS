{
 "cells": [
  {
   "cell_type": "code",
   "execution_count": 17,
   "id": "38ae2cce",
   "metadata": {},
   "outputs": [],
   "source": [
    "import os \n",
    "import pandas as pd \n",
    "import numpy as np \n",
    "import pickle"
   ]
  },
  {
   "cell_type": "code",
   "execution_count": 18,
   "id": "640b070e",
   "metadata": {},
   "outputs": [
    {
     "name": "stdout",
     "output_type": "stream",
     "text": [
      "['Set_11_15.pkl', 'Set_16_20.pkl', 'Set_21_25.pkl', 'Set_26_30.pkl', 'Set_31_35.pkl', 'Set_36_40.pkl', 'Set_41_45.pkl', 'Set_46_50.pkl', 'Set_51_55.pkl', 'Set_56_60.pkl', 'Set_61_65.pkl', 'Set_6_10.pkl', 'Set_71_75.pkl', 'Set_76_80.pkl', 'Set_81_85.pkl', 'Set_test_ads_0.pkl', 'Set_test_ads_1.pkl']\n"
     ]
    }
   ],
   "source": [
    "base_folder=\"/bigdata/digbose92/ads_data/ads_complete_repo/ads_latest_annotations/ads_latest_annotations/ads_completed_annotation_v1/ads_annotation_pkl_files\"\n",
    "#\"/data/digbose92/ads_complete_repo/ads_latest_annotations/ads_completed_annotation_v1/ads_annotation_pkl_files\" #loactions of the pickle files containing the parsed labels\n",
    "file_list=os.listdir(base_folder)\n",
    "print(sorted(file_list))\n",
    "#need to add set 5 data here to the list of pickle files"
   ]
  },
  {
   "cell_type": "code",
   "execution_count": 32,
   "id": "ca21e93b",
   "metadata": {},
   "outputs": [
    {
     "name": "stderr",
     "output_type": "stream",
     "text": [
      "100%|█████████████████████████████████████████████████████████████████████████████████████████████████████████████████████████████████████████████████████████████████████████████████████████████████| 17/17 [00:00<00:00, 96.35it/s]\n"
     ]
    }
   ],
   "source": [
    "#read one pickle file and check the details \n",
    "from collections import Counter\n",
    "from tqdm import tqdm \n",
    "\n",
    "number_files=0\n",
    "social_message_list=[]\n",
    "transition_list=[]\n",
    "start_transition_list=[] #holds majority start labels for advertisement videos\n",
    "middle_transition_list=[] #holds majority middle labels for advertisement videos\n",
    "end_transition_list=[]#holds majority end labels for advertisement videos\n",
    "\n",
    "#tone for every url (majority tone)\n",
    "start_tone_list=[]\n",
    "middle_tone_list=[]\n",
    "end_tone_list=[]\n",
    "video_file_list=[]\n",
    "dict_data_complete_json=dict()\n",
    "key_list=['raf_bomber_command_harry\\n','molto_aliens\\n',\n",
    "'zumosol_lips\\n','zumosol_laser\\n','zumosol_crab\\n','gundersen_health_system_baby\\n'\n",
    "'interflora_time_to_forgive_her_2\\n']\n",
    "\n",
    "for file in tqdm(file_list):\n",
    "    pkl_file=os.path.join(base_folder,file)\n",
    "    \n",
    "    with open(pkl_file,\"rb\") as f:\n",
    "        current_split_data=pickle.load(f)\n",
    "        \n",
    "    number_files=number_files+len(current_split_data.keys())\n",
    "    #list of keys for current split data\n",
    "    key_list=sorted(list(current_split_data.keys()))\n",
    "    \n",
    "    for key in key_list:\n",
    "        #print(current_split_data[key]['Start'])\n",
    "        #url in the current key \n",
    "        #print(current_split_data[key]['Start'])\n",
    "        video_file=current_split_data[key]['Url'].split(\"/\")[-1]\n",
    "        \n",
    "        if(video_file in key_list):\n",
    "            video_key=video_file.split(\"\\n\")[0]\n",
    "            print(video_key)\n",
    "        else:\n",
    "            video_key=os.path.splitext(video_file)[0]\n",
    "        \n",
    "        video_file_list.append(video_file)\n",
    "        \n",
    "        #start majority tone\n",
    "        start_maj_tone=current_split_data[key]['Start']['Majority_tone']\n",
    "        #middle majority tone\n",
    "        middle_maj_tone=current_split_data[key]['Middle']['Majority_tone']\n",
    "        #ending majority tone\n",
    "        end_maj_tone=current_split_data[key]['End']['Majority_tone']\n",
    "        \n",
    "        #start,middle,ending \n",
    "        \n",
    "        dict_temp={'Start_majority_tone': start_maj_tone,\n",
    "                    'Middle_majority_tone':middle_maj_tone,\n",
    "                   'End_majority_tone':end_maj_tone,\n",
    "                   'Start_tone':current_split_data[key]['Start']['Tone'],\n",
    "                   'Middle_tone':current_split_data[key]['Middle']['Tone'],\n",
    "                   'End_tone':current_split_data[key]['End']['Tone'],\n",
    "                   'Start_reason':current_split_data[key]['Start']['Reason'],\n",
    "                   'Middle_reason':current_split_data[key]['Middle']['Reason'],\n",
    "                   'End_reason':current_split_data[key]['End']['Reason'],\n",
    "                   'Social_message_majority':current_split_data[key]['Social_message']['Majority_message'],\n",
    "                   'Social_message':current_split_data[key]['Social_message']['Message']\n",
    "                    }\n",
    "        \n",
    "        start_tone_list.append(start_tone)\n",
    "        middle_tone_list.append(middle_tone)\n",
    "        end_tone_list.append(end_tone)\n",
    "        \n",
    "        if((start_tone==middle_tone) and (middle_tone==end_tone)):\n",
    "            transition_list.append('No transition')\n",
    "        else:\n",
    "            transition_list.append('Transition')\n",
    "            start_transition_list.append(start_tone)\n",
    "            middle_transition_list.append(middle_tone)\n",
    "            end_transition_list.append(end_tone)\n",
    "        \n",
    "        #extract majority social message label for every advertisement video\n",
    "        social_message_list.append(current_split_data[key]['Social_message']['Majority_message'])\n",
    "        dict_data_complete_json[video_key]=dict_temp"
   ]
  },
  {
   "cell_type": "code",
   "execution_count": 20,
   "id": "11a423c8",
   "metadata": {},
   "outputs": [
    {
     "ename": "TypeError",
     "evalue": "Index(...) must be called with a collection of some kind, False was passed",
     "output_type": "error",
     "traceback": [
      "\u001b[0;31m---------------------------------------------------------------------------\u001b[0m",
      "\u001b[0;31mTypeError\u001b[0m                                 Traceback (most recent call last)",
      "Cell \u001b[0;32mIn[20], line 3\u001b[0m\n\u001b[1;32m      1\u001b[0m \u001b[38;5;66;03m### convert the entire set of lists into dataframe ###\u001b[39;00m\n\u001b[0;32m----> 3\u001b[0m df\u001b[38;5;241m=\u001b[39m\u001b[43mpd\u001b[49m\u001b[38;5;241;43m.\u001b[39;49m\u001b[43mDataFrame\u001b[49m\u001b[43m(\u001b[49m\u001b[43m{\u001b[49m\n\u001b[1;32m      4\u001b[0m \u001b[43m    \u001b[49m\u001b[38;5;124;43m'\u001b[39;49m\u001b[38;5;124;43mvideo_file\u001b[39;49m\u001b[38;5;124;43m'\u001b[39;49m\u001b[43m:\u001b[49m\u001b[43m \u001b[49m\u001b[43mvideo_file_list\u001b[49m\u001b[43m,\u001b[49m\n\u001b[1;32m      5\u001b[0m \u001b[43m    \u001b[49m\u001b[38;5;124;43m'\u001b[39;49m\u001b[38;5;124;43mstart_tone\u001b[39;49m\u001b[38;5;124;43m'\u001b[39;49m\u001b[43m:\u001b[49m\u001b[43m \u001b[49m\u001b[43mstart_tone_list\u001b[49m\u001b[43m,\u001b[49m\n\u001b[1;32m      6\u001b[0m \u001b[43m    \u001b[49m\u001b[38;5;124;43m'\u001b[39;49m\u001b[38;5;124;43mmiddle_tone\u001b[39;49m\u001b[38;5;124;43m'\u001b[39;49m\u001b[43m:\u001b[49m\u001b[43m \u001b[49m\u001b[43mmiddle_tone_list\u001b[49m\u001b[43m,\u001b[49m\n\u001b[1;32m      7\u001b[0m \u001b[43m    \u001b[49m\u001b[38;5;124;43m'\u001b[39;49m\u001b[38;5;124;43mend_tone\u001b[39;49m\u001b[38;5;124;43m'\u001b[39;49m\u001b[43m:\u001b[49m\u001b[43m \u001b[49m\u001b[43mend_tone_list\u001b[49m\u001b[43m,\u001b[49m\n\u001b[1;32m      8\u001b[0m \u001b[43m    \u001b[49m\u001b[38;5;124;43m'\u001b[39;49m\u001b[38;5;124;43mTransition_val\u001b[39;49m\u001b[38;5;124;43m'\u001b[39;49m\u001b[43m:\u001b[49m\u001b[43m \u001b[49m\u001b[43mtransition_list\u001b[49m\u001b[43m,\u001b[49m\n\u001b[1;32m      9\u001b[0m \u001b[43m    \u001b[49m\u001b[38;5;124;43m'\u001b[39;49m\u001b[38;5;124;43msocial_message\u001b[39;49m\u001b[38;5;124;43m'\u001b[39;49m\u001b[43m:\u001b[49m\u001b[43m \u001b[49m\u001b[43msocial_message_list\u001b[49m\n\u001b[1;32m     10\u001b[0m \u001b[43m}\u001b[49m\u001b[43m,\u001b[49m\u001b[43m \u001b[49m\u001b[43mindex\u001b[49m\u001b[38;5;241;43m=\u001b[39;49m\u001b[38;5;28;43;01mFalse\u001b[39;49;00m\u001b[43m)\u001b[49m\n\u001b[1;32m     11\u001b[0m df\u001b[38;5;241m.\u001b[39mto_csv(\u001b[38;5;124m\"\u001b[39m\u001b[38;5;124m/data/digbose92/ads_complete_repo/ads_codes/SAIM-ADS/data/SAIM_ads_data_message_tone.csv\u001b[39m\u001b[38;5;124m\"\u001b[39m)\n",
      "File \u001b[0;32m~/miniconda3/envs/ads-env/lib/python3.8/site-packages/pandas/core/frame.py:664\u001b[0m, in \u001b[0;36mDataFrame.__init__\u001b[0;34m(self, data, index, columns, dtype, copy)\u001b[0m\n\u001b[1;32m    658\u001b[0m     mgr \u001b[38;5;241m=\u001b[39m \u001b[38;5;28mself\u001b[39m\u001b[38;5;241m.\u001b[39m_init_mgr(\n\u001b[1;32m    659\u001b[0m         data, axes\u001b[38;5;241m=\u001b[39m{\u001b[38;5;124m\"\u001b[39m\u001b[38;5;124mindex\u001b[39m\u001b[38;5;124m\"\u001b[39m: index, \u001b[38;5;124m\"\u001b[39m\u001b[38;5;124mcolumns\u001b[39m\u001b[38;5;124m\"\u001b[39m: columns}, dtype\u001b[38;5;241m=\u001b[39mdtype, copy\u001b[38;5;241m=\u001b[39mcopy\n\u001b[1;32m    660\u001b[0m     )\n\u001b[1;32m    662\u001b[0m \u001b[38;5;28;01melif\u001b[39;00m \u001b[38;5;28misinstance\u001b[39m(data, \u001b[38;5;28mdict\u001b[39m):\n\u001b[1;32m    663\u001b[0m     \u001b[38;5;66;03m# GH#38939 de facto copy defaults to False only in non-dict cases\u001b[39;00m\n\u001b[0;32m--> 664\u001b[0m     mgr \u001b[38;5;241m=\u001b[39m \u001b[43mdict_to_mgr\u001b[49m\u001b[43m(\u001b[49m\u001b[43mdata\u001b[49m\u001b[43m,\u001b[49m\u001b[43m \u001b[49m\u001b[43mindex\u001b[49m\u001b[43m,\u001b[49m\u001b[43m \u001b[49m\u001b[43mcolumns\u001b[49m\u001b[43m,\u001b[49m\u001b[43m \u001b[49m\u001b[43mdtype\u001b[49m\u001b[38;5;241;43m=\u001b[39;49m\u001b[43mdtype\u001b[49m\u001b[43m,\u001b[49m\u001b[43m \u001b[49m\u001b[43mcopy\u001b[49m\u001b[38;5;241;43m=\u001b[39;49m\u001b[43mcopy\u001b[49m\u001b[43m,\u001b[49m\u001b[43m \u001b[49m\u001b[43mtyp\u001b[49m\u001b[38;5;241;43m=\u001b[39;49m\u001b[43mmanager\u001b[49m\u001b[43m)\u001b[49m\n\u001b[1;32m    665\u001b[0m \u001b[38;5;28;01melif\u001b[39;00m \u001b[38;5;28misinstance\u001b[39m(data, ma\u001b[38;5;241m.\u001b[39mMaskedArray):\n\u001b[1;32m    666\u001b[0m     \u001b[38;5;28;01mimport\u001b[39;00m \u001b[38;5;21;01mnumpy\u001b[39;00m\u001b[38;5;21;01m.\u001b[39;00m\u001b[38;5;21;01mma\u001b[39;00m\u001b[38;5;21;01m.\u001b[39;00m\u001b[38;5;21;01mmrecords\u001b[39;00m \u001b[38;5;28;01mas\u001b[39;00m \u001b[38;5;21;01mmrecords\u001b[39;00m\n",
      "File \u001b[0;32m~/miniconda3/envs/ads-env/lib/python3.8/site-packages/pandas/core/internals/construction.py:493\u001b[0m, in \u001b[0;36mdict_to_mgr\u001b[0;34m(data, index, columns, dtype, typ, copy)\u001b[0m\n\u001b[1;32m    489\u001b[0m     \u001b[38;5;28;01melse\u001b[39;00m:\n\u001b[1;32m    490\u001b[0m         \u001b[38;5;66;03m# dtype check to exclude e.g. range objects, scalars\u001b[39;00m\n\u001b[1;32m    491\u001b[0m         arrays \u001b[38;5;241m=\u001b[39m [x\u001b[38;5;241m.\u001b[39mcopy() \u001b[38;5;28;01mif\u001b[39;00m \u001b[38;5;28mhasattr\u001b[39m(x, \u001b[38;5;124m\"\u001b[39m\u001b[38;5;124mdtype\u001b[39m\u001b[38;5;124m\"\u001b[39m) \u001b[38;5;28;01melse\u001b[39;00m x \u001b[38;5;28;01mfor\u001b[39;00m x \u001b[38;5;129;01min\u001b[39;00m arrays]\n\u001b[0;32m--> 493\u001b[0m \u001b[38;5;28;01mreturn\u001b[39;00m \u001b[43marrays_to_mgr\u001b[49m\u001b[43m(\u001b[49m\u001b[43marrays\u001b[49m\u001b[43m,\u001b[49m\u001b[43m \u001b[49m\u001b[43mcolumns\u001b[49m\u001b[43m,\u001b[49m\u001b[43m \u001b[49m\u001b[43mindex\u001b[49m\u001b[43m,\u001b[49m\u001b[43m \u001b[49m\u001b[43mdtype\u001b[49m\u001b[38;5;241;43m=\u001b[39;49m\u001b[43mdtype\u001b[49m\u001b[43m,\u001b[49m\u001b[43m \u001b[49m\u001b[43mtyp\u001b[49m\u001b[38;5;241;43m=\u001b[39;49m\u001b[43mtyp\u001b[49m\u001b[43m,\u001b[49m\u001b[43m \u001b[49m\u001b[43mconsolidate\u001b[49m\u001b[38;5;241;43m=\u001b[39;49m\u001b[43mcopy\u001b[49m\u001b[43m)\u001b[49m\n",
      "File \u001b[0;32m~/miniconda3/envs/ads-env/lib/python3.8/site-packages/pandas/core/internals/construction.py:120\u001b[0m, in \u001b[0;36marrays_to_mgr\u001b[0;34m(arrays, columns, index, dtype, verify_integrity, typ, consolidate)\u001b[0m\n\u001b[1;32m    118\u001b[0m     index \u001b[38;5;241m=\u001b[39m _extract_index(arrays)\n\u001b[1;32m    119\u001b[0m \u001b[38;5;28;01melse\u001b[39;00m:\n\u001b[0;32m--> 120\u001b[0m     index \u001b[38;5;241m=\u001b[39m \u001b[43mensure_index\u001b[49m\u001b[43m(\u001b[49m\u001b[43mindex\u001b[49m\u001b[43m)\u001b[49m\n\u001b[1;32m    122\u001b[0m \u001b[38;5;66;03m# don't force copy because getting jammed in an ndarray anyway\u001b[39;00m\n\u001b[1;32m    123\u001b[0m arrays \u001b[38;5;241m=\u001b[39m _homogenize(arrays, index, dtype)\n",
      "File \u001b[0;32m~/miniconda3/envs/ads-env/lib/python3.8/site-packages/pandas/core/indexes/base.py:7333\u001b[0m, in \u001b[0;36mensure_index\u001b[0;34m(index_like, copy)\u001b[0m\n\u001b[1;32m   7331\u001b[0m         \u001b[38;5;28;01mreturn\u001b[39;00m Index\u001b[38;5;241m.\u001b[39m_with_infer(index_like, copy\u001b[38;5;241m=\u001b[39mcopy, tupleize_cols\u001b[38;5;241m=\u001b[39m\u001b[38;5;28;01mFalse\u001b[39;00m)\n\u001b[1;32m   7332\u001b[0m \u001b[38;5;28;01melse\u001b[39;00m:\n\u001b[0;32m-> 7333\u001b[0m     \u001b[38;5;28;01mreturn\u001b[39;00m \u001b[43mIndex\u001b[49m\u001b[38;5;241;43m.\u001b[39;49m\u001b[43m_with_infer\u001b[49m\u001b[43m(\u001b[49m\u001b[43mindex_like\u001b[49m\u001b[43m,\u001b[49m\u001b[43m \u001b[49m\u001b[43mcopy\u001b[49m\u001b[38;5;241;43m=\u001b[39;49m\u001b[43mcopy\u001b[49m\u001b[43m)\u001b[49m\n",
      "File \u001b[0;32m~/miniconda3/envs/ads-env/lib/python3.8/site-packages/pandas/core/indexes/base.py:716\u001b[0m, in \u001b[0;36mIndex._with_infer\u001b[0;34m(cls, *args, **kwargs)\u001b[0m\n\u001b[1;32m    714\u001b[0m \u001b[38;5;28;01mwith\u001b[39;00m warnings\u001b[38;5;241m.\u001b[39mcatch_warnings():\n\u001b[1;32m    715\u001b[0m     warnings\u001b[38;5;241m.\u001b[39mfilterwarnings(\u001b[38;5;124m\"\u001b[39m\u001b[38;5;124mignore\u001b[39m\u001b[38;5;124m\"\u001b[39m, \u001b[38;5;124m\"\u001b[39m\u001b[38;5;124m.*the Index constructor\u001b[39m\u001b[38;5;124m\"\u001b[39m, \u001b[38;5;167;01mFutureWarning\u001b[39;00m)\n\u001b[0;32m--> 716\u001b[0m     result \u001b[38;5;241m=\u001b[39m \u001b[38;5;28;43mcls\u001b[39;49m\u001b[43m(\u001b[49m\u001b[38;5;241;43m*\u001b[39;49m\u001b[43margs\u001b[49m\u001b[43m,\u001b[49m\u001b[43m \u001b[49m\u001b[38;5;241;43m*\u001b[39;49m\u001b[38;5;241;43m*\u001b[39;49m\u001b[43mkwargs\u001b[49m\u001b[43m)\u001b[49m\n\u001b[1;32m    718\u001b[0m \u001b[38;5;28;01mif\u001b[39;00m result\u001b[38;5;241m.\u001b[39mdtype \u001b[38;5;241m==\u001b[39m _dtype_obj \u001b[38;5;129;01mand\u001b[39;00m \u001b[38;5;129;01mnot\u001b[39;00m result\u001b[38;5;241m.\u001b[39m_is_multi:\n\u001b[1;32m    719\u001b[0m     \u001b[38;5;66;03m# error: Argument 1 to \"maybe_convert_objects\" has incompatible type\u001b[39;00m\n\u001b[1;32m    720\u001b[0m     \u001b[38;5;66;03m# \"Union[ExtensionArray, ndarray[Any, Any]]\"; expected\u001b[39;00m\n\u001b[1;32m    721\u001b[0m     \u001b[38;5;66;03m# \"ndarray[Any, Any]\"\u001b[39;00m\n\u001b[1;32m    722\u001b[0m     values \u001b[38;5;241m=\u001b[39m lib\u001b[38;5;241m.\u001b[39mmaybe_convert_objects(result\u001b[38;5;241m.\u001b[39m_values)  \u001b[38;5;66;03m# type: ignore[arg-type]\u001b[39;00m\n",
      "File \u001b[0;32m~/miniconda3/envs/ads-env/lib/python3.8/site-packages/pandas/core/indexes/base.py:545\u001b[0m, in \u001b[0;36mIndex.__new__\u001b[0;34m(cls, data, dtype, copy, name, tupleize_cols, **kwargs)\u001b[0m\n\u001b[1;32m    542\u001b[0m     \u001b[38;5;28;01mreturn\u001b[39;00m klass\u001b[38;5;241m.\u001b[39m_simple_new(arr, name)\n\u001b[1;32m    544\u001b[0m \u001b[38;5;28;01melif\u001b[39;00m is_scalar(data):\n\u001b[0;32m--> 545\u001b[0m     \u001b[38;5;28;01mraise\u001b[39;00m \u001b[38;5;28mcls\u001b[39m\u001b[38;5;241m.\u001b[39m_scalar_data_error(data)\n\u001b[1;32m    546\u001b[0m \u001b[38;5;28;01melif\u001b[39;00m \u001b[38;5;28mhasattr\u001b[39m(data, \u001b[38;5;124m\"\u001b[39m\u001b[38;5;124m__array__\u001b[39m\u001b[38;5;124m\"\u001b[39m):\n\u001b[1;32m    547\u001b[0m     \u001b[38;5;28;01mreturn\u001b[39;00m Index(np\u001b[38;5;241m.\u001b[39masarray(data), dtype\u001b[38;5;241m=\u001b[39mdtype, copy\u001b[38;5;241m=\u001b[39mcopy, name\u001b[38;5;241m=\u001b[39mname, \u001b[38;5;241m*\u001b[39m\u001b[38;5;241m*\u001b[39mkwargs)\n",
      "\u001b[0;31mTypeError\u001b[0m: Index(...) must be called with a collection of some kind, False was passed"
     ]
    }
   ],
   "source": [
    "### convert the entire set of lists into dataframe ###\n",
    "\n",
    "df=pd.DataFrame({\n",
    "    'video_file': video_file_list,\n",
    "    'start_tone': start_tone_list,\n",
    "    'middle_tone': middle_tone_list,\n",
    "    'end_tone': end_tone_list,\n",
    "    'Transition_val': transition_list,\n",
    "    'social_message': social_message_list\n",
    "}, index=False)\n",
    "df.to_csv(\"/data/digbose92/ads_complete_repo/ads_codes/SAIM-ADS/data/SAIM_ads_data_message_tone.csv\")"
   ]
  },
  {
   "cell_type": "code",
   "execution_count": null,
   "id": "3f7e6ad5",
   "metadata": {},
   "outputs": [],
   "source": [
    "#check distribution of social messages\n",
    "Counter(social_message_list)\n",
    "#7697 videos don't have any social message and 761 videos have social message"
   ]
  },
  {
   "cell_type": "code",
   "execution_count": null,
   "id": "b2e66bf5",
   "metadata": {},
   "outputs": [],
   "source": [
    "#need to check the number of videos with tone transitions (as defined by majority start, middle and end annotations)\n",
    "Counter(transition_list)"
   ]
  },
  {
   "cell_type": "code",
   "execution_count": null,
   "id": "a6d563a8",
   "metadata": {},
   "outputs": [],
   "source": [
    "#check the distribution of start, middle and end for cases with transitions\n",
    "\n",
    "print(Counter(start_transition_list))\n",
    "print(Counter(middle_transition_list))\n",
    "print(Counter(end_transition_list))"
   ]
  },
  {
   "cell_type": "code",
   "execution_count": null,
   "id": "88dff222",
   "metadata": {},
   "outputs": [],
   "source": [
    "7697+761"
   ]
  },
  {
   "cell_type": "code",
   "execution_count": null,
   "id": "80946f90",
   "metadata": {},
   "outputs": [],
   "source": [
    "1731+1077+1068"
   ]
  },
  {
   "cell_type": "code",
   "execution_count": null,
   "id": "9111d24a",
   "metadata": {},
   "outputs": [],
   "source": [
    "#split the csv data into "
   ]
  },
  {
   "cell_type": "code",
   "execution_count": null,
   "id": "185aeedd",
   "metadata": {},
   "outputs": [],
   "source": [
    "ls -ltr /data/digbose92/ads_complete_repo/ads_latest_annotations/ads_completed_annotation_v1/ads_annotation_pkl_files"
   ]
  },
  {
   "cell_type": "code",
   "execution_count": null,
   "id": "3ca82e8a",
   "metadata": {},
   "outputs": [],
   "source": [
    "len(dict_data_complete_json)"
   ]
  },
  {
   "cell_type": "code",
   "execution_count": null,
   "id": "8b4066cf",
   "metadata": {},
   "outputs": [],
   "source": [
    "list(dict_data_complete_json.keys())"
   ]
  },
  {
   "cell_type": "code",
   "execution_count": null,
   "id": "2c0d6e15",
   "metadata": {},
   "outputs": [],
   "source": [
    "dict_data_complete_json['park_mgm_no_ordinary_august']"
   ]
  },
  {
   "cell_type": "code",
   "execution_count": 21,
   "id": "d01b83c4",
   "metadata": {},
   "outputs": [],
   "source": [
    "#load the csv file \n",
    "csv_file=\"/bigdata/digbose92/ads_data/ads_complete_repo/ads_codes/SAIM-ADS/data/SAIM_data/SAIM_multi_task_tone_soc_message_topic_data_no_zero_files.csv\"\n",
    "csv_data=pd.read_csv(csv_file)\n",
    "clip_feature_file_list=list(csv_data['clip_feature_path'])\n",
    "clip_feature_key=[os.path.splitext(f.split(\"/\")[-1])[0] for f in clip_feature_file_list]\n",
    "dict_MM_AU_sample=dict()"
   ]
  },
  {
   "cell_type": "code",
   "execution_count": 35,
   "id": "c3f5fa34",
   "metadata": {},
   "outputs": [],
   "source": [
    "for key in clip_feature_key:\n",
    "    if(key in dict_data_complete_json):\n",
    "        dict_MM_AU_sample[key]=dict_data_complete_json[key]\n",
    "    else:\n",
    "        select_key=key.split(\"\\n\")[0]\n",
    "        dict_MM_AU_sample[select_key]=dict_data_complete_json[key+\"\\n\"]"
   ]
  },
  {
   "cell_type": "code",
   "execution_count": 36,
   "id": "191df6e9",
   "metadata": {},
   "outputs": [
    {
     "data": {
      "text/plain": [
       "8399"
      ]
     },
     "execution_count": 36,
     "metadata": {},
     "output_type": "execute_result"
    }
   ],
   "source": [
    "len(dict_MM_AU_sample)"
   ]
  },
  {
   "cell_type": "code",
   "execution_count": 37,
   "id": "2c326771",
   "metadata": {},
   "outputs": [],
   "source": [
    "#save the dictionary dict_MM_AU_sample"
   ]
  },
  {
   "cell_type": "code",
   "execution_count": 39,
   "id": "31d19f16",
   "metadata": {},
   "outputs": [],
   "source": [
    "import json\n",
    "with open(\"/bigdata/digbose92/ads_data/ads_complete_repo/ads_latest_annotations/ads_latest_annotations/processed_json/MM_AU_dataset.json\",\"w\") as f:\n",
    "    json.dump(dict_MM_AU_sample,f,indent=4)"
   ]
  },
  {
   "cell_type": "code",
   "execution_count": 42,
   "id": "20c92fde",
   "metadata": {},
   "outputs": [],
   "source": [
    "# compute distribution of majority, unanimous and separate distribution\n",
    "\n",
    "#start tone\n",
    "\n",
    "start_two_sample_maj=0\n",
    "start_complete_maj=0\n",
    "start_no_maj=0\n",
    "\n",
    "for key in list(dict_MM_AU_sample.keys()):\n",
    "    \n",
    "    dict_curr=dict_MM_AU_sample[key]\n",
    "    start_tone=dict_curr['Start_tone']\n",
    "    \n",
    "    # Initialize the Counter object.\n",
    "    counter = Counter(start_tone)\n",
    "\n",
    "    # Find the element with the highest count.\n",
    "    majority_element, count = counter.most_common(1)[0]\n",
    "    \n",
    "    #print(start_tone,majority_element,count)\n",
    "    if(count==2):\n",
    "        start_two_sample_maj+=1\n",
    "    elif(count==3):\n",
    "        start_complete_maj+=1\n",
    "    elif(count==1):\n",
    "        start_no_maj+=1"
   ]
  },
  {
   "cell_type": "code",
   "execution_count": 43,
   "id": "a72b1597",
   "metadata": {},
   "outputs": [
    {
     "data": {
      "text/plain": [
       "(2610, 5044, 745)"
      ]
     },
     "execution_count": 43,
     "metadata": {},
     "output_type": "execute_result"
    }
   ],
   "source": [
    "start_complete_maj,start_two_sample_maj,start_no_maj"
   ]
  },
  {
   "cell_type": "code",
   "execution_count": 44,
   "id": "ea4cb3aa",
   "metadata": {},
   "outputs": [
    {
     "name": "stdout",
     "output_type": "stream",
     "text": [
      "3351 4340 708\n"
     ]
    }
   ],
   "source": [
    "#middle tone\n",
    "\n",
    "mid_two_sample_maj=0\n",
    "mid_complete_maj=0\n",
    "mid_no_maj=0\n",
    "\n",
    "for key in list(dict_MM_AU_sample.keys()):\n",
    "    \n",
    "    dict_curr=dict_MM_AU_sample[key]\n",
    "    mid_tone=dict_curr['Middle_tone']\n",
    "    \n",
    "    # Initialize the Counter object.\n",
    "    counter = Counter(mid_tone)\n",
    "\n",
    "    # Find the element with the highest count.\n",
    "    majority_element, count = counter.most_common(1)[0]\n",
    "    \n",
    "    #print(start_tone,majority_element,count)\n",
    "    if(count==2):\n",
    "        mid_two_sample_maj+=1\n",
    "    elif(count==3):\n",
    "        mid_complete_maj+=1\n",
    "    elif(count==1):\n",
    "        mid_no_maj+=1\n",
    "        \n",
    "print(mid_complete_maj,mid_two_sample_maj,mid_no_maj)"
   ]
  },
  {
   "cell_type": "code",
   "execution_count": 45,
   "id": "87b6bc35",
   "metadata": {},
   "outputs": [
    {
     "name": "stdout",
     "output_type": "stream",
     "text": [
      "4122 3815 462\n"
     ]
    }
   ],
   "source": [
    "end_two_sample_maj=0\n",
    "end_complete_maj=0\n",
    "end_no_maj=0\n",
    "\n",
    "for key in list(dict_MM_AU_sample.keys()):\n",
    "    \n",
    "    dict_curr=dict_MM_AU_sample[key]\n",
    "    end_tone=dict_curr['End_tone']\n",
    "    \n",
    "    # Initialize the Counter object.\n",
    "    counter = Counter(end_tone)\n",
    "\n",
    "    # Find the element with the highest count.\n",
    "    majority_element, count = counter.most_common(1)[0]\n",
    "    \n",
    "    #print(start_tone,majority_element,count)\n",
    "    if(count==2):\n",
    "        end_two_sample_maj+=1\n",
    "    elif(count==3):\n",
    "        end_complete_maj+=1\n",
    "    elif(count==1):\n",
    "        end_no_maj+=1\n",
    "        \n",
    "print(end_complete_maj,end_two_sample_maj,end_no_maj)"
   ]
  },
  {
   "cell_type": "code",
   "execution_count": 61,
   "id": "132644fe",
   "metadata": {},
   "outputs": [
    {
     "name": "stdout",
     "output_type": "stream",
     "text": [
      "mercedes_be_a_good_parent\n",
      "6618 1780 1\n"
     ]
    }
   ],
   "source": [
    "soc_msg_two_sample_maj=0\n",
    "soc_msg_complete_maj=0\n",
    "soc_msg_no_maj=0\n",
    "\n",
    "for key in list(dict_MM_AU_sample.keys()):\n",
    "    \n",
    "    dict_curr=dict_MM_AU_sample[key]\n",
    "    #print(dict_curr)\n",
    "    soc_msg=eval(dict_curr['Social_message'])\n",
    "    \n",
    "    \n",
    "    # Initialize the Counter object.\n",
    "    counter = Counter(soc_msg)\n",
    "\n",
    "    # Find the element with the highest count.\n",
    "    majority_element, count = counter.most_common(1)[0]\n",
    "    \n",
    "    #print(start_tone,majority_element,count)\n",
    "    if(count==2):\n",
    "        soc_msg_two_sample_maj+=1\n",
    "    elif(count==3):\n",
    "        soc_msg_complete_maj+=1\n",
    "    elif(count==1):\n",
    "        print(key)\n",
    "        soc_msg_no_maj+=1\n",
    "        \n",
    "print(soc_msg_complete_maj,soc_msg_two_sample_maj,soc_msg_no_maj)"
   ]
  },
  {
   "cell_type": "code",
   "execution_count": 52,
   "id": "52420e83",
   "metadata": {},
   "outputs": [
    {
     "name": "stdout",
     "output_type": "stream",
     "text": [
      "{'Start_majority_tone': 'positive', 'Middle_majority_tone': 'positive', 'End_majority_tone': 'positive', 'Start_tone': ['positive', 'positive', 'positive'], 'Middle_tone': ['positive', 'positive', 'positive'], 'End_tone': ['positive', 'positive', 'positive'], 'Start_reason': ['someone is dancing and three are watching', 'A woman dancing madly in front of children', 'A Women dance in front of other children'], 'Middle_reason': ['still she is dancing and everyone is watching', \"There are strange looks on the children's faces\", \"It's time to forgive him\"], 'End_reason': ['the ad promotes FLEUROP WEBSITE', 'May 14th is mothers day, so they forgive her', 'Flowers have a powerful effect'], 'Social_message_majority': 'No', 'Social_message': \"['Yes', 'No', 'No']\"}\n"
     ]
    }
   ],
   "source": [
    "print(dict_curr)\n"
   ]
  },
  {
   "cell_type": "code",
   "execution_count": 62,
   "id": "7fd07bc8",
   "metadata": {},
   "outputs": [
    {
     "data": {
      "text/plain": [
       "99.99999999999999"
      ]
     },
     "execution_count": 62,
     "metadata": {},
     "output_type": "execute_result"
    }
   ],
   "source": [
    "46.4+43.3+10.3"
   ]
  },
  {
   "cell_type": "code",
   "execution_count": 63,
   "id": "b2d8013a",
   "metadata": {},
   "outputs": [],
   "source": [
    "social_message_yes_data=csv_data[csv_data['social_message']=='Yes']"
   ]
  },
  {
   "cell_type": "code",
   "execution_count": 64,
   "id": "235f2781",
   "metadata": {},
   "outputs": [
    {
     "data": {
      "text/plain": [
       "(759, 11)"
      ]
     },
     "execution_count": 64,
     "metadata": {},
     "output_type": "execute_result"
    }
   ],
   "source": [
    "social_message_yes_data.shape"
   ]
  },
  {
   "cell_type": "code",
   "execution_count": 65,
   "id": "84d6caa2",
   "metadata": {},
   "outputs": [
    {
     "data": {
      "text/plain": [
       "Index(['Unnamed: 0', 'video_file', 'start_tone', 'middle_tone', 'end_tone',\n",
       "       'Transition_val', 'social_message', 'Topic', 'Split',\n",
       "       'clip_feature_path', 'Link'],\n",
       "      dtype='object')"
      ]
     },
     "execution_count": 65,
     "metadata": {},
     "output_type": "execute_result"
    }
   ],
   "source": [
    "social_message_yes_data.columns"
   ]
  },
  {
   "cell_type": "code",
   "execution_count": 69,
   "id": "e6b5bb15",
   "metadata": {},
   "outputs": [],
   "source": [
    "mid_tone_list=Counter(list(social_message_yes_data['middle_tone']))"
   ]
  },
  {
   "cell_type": "code",
   "execution_count": 67,
   "id": "3a60b2f7",
   "metadata": {},
   "outputs": [
    {
     "data": {
      "text/plain": [
       "Counter({'neutral': 78, 'positive': 352, 'negative': 329})"
      ]
     },
     "execution_count": 67,
     "metadata": {},
     "output_type": "execute_result"
    }
   ],
   "source": [
    "mid_tone_list"
   ]
  },
  {
   "cell_type": "code",
   "execution_count": 70,
   "id": "9425b8f1",
   "metadata": {},
   "outputs": [
    {
     "name": "stdout",
     "output_type": "stream",
     "text": [
      "Counter({'positive': 352, 'negative': 245, 'neutral': 162})\n"
     ]
    }
   ],
   "source": [
    "start_tone_list=Counter(list(social_message_yes_data['start_tone']))\n",
    "print(start_tone_list)"
   ]
  },
  {
   "cell_type": "code",
   "execution_count": 71,
   "id": "2e00ed70",
   "metadata": {},
   "outputs": [
    {
     "name": "stdout",
     "output_type": "stream",
     "text": [
      "Counter({'positive': 523, 'negative': 153, 'neutral': 83})\n"
     ]
    }
   ],
   "source": [
    "end_tone_list=Counter(list(social_message_yes_data['end_tone']))\n",
    "print(end_tone_list)"
   ]
  },
  {
   "cell_type": "code",
   "execution_count": 72,
   "id": "d6309f00",
   "metadata": {},
   "outputs": [
    {
     "data": {
      "text/plain": [
       "Counter({'Transition': 474, 'No transition': 285})"
      ]
     },
     "execution_count": 72,
     "metadata": {},
     "output_type": "execute_result"
    }
   ],
   "source": [
    "Counter(list(social_message_yes_data['Transition_val']))"
   ]
  },
  {
   "cell_type": "code",
   "execution_count": 74,
   "id": "4fbd7dbb",
   "metadata": {},
   "outputs": [],
   "source": [
    "start_tone_reason_tot=[]\n",
    "mid_tone_reason_tot=[]\n",
    "end_tone_reason_tot=[]\n",
    "\n",
    "for key in list(dict_MM_AU_sample.keys()):\n",
    "    \n",
    "    start_tone_reason_tot=start_tone_reason_tot+dict_MM_AU_sample[key]['Start_reason']\n",
    "    mid_tone_reason_tot=mid_tone_reason_tot+dict_MM_AU_sample[key]['Middle_reason']\n",
    "    end_tone_reason_tot=end_tone_reason_tot+dict_MM_AU_sample[key]['End_reason']"
   ]
  },
  {
   "cell_type": "code",
   "execution_count": 75,
   "id": "1fb3b95e",
   "metadata": {},
   "outputs": [
    {
     "data": {
      "text/plain": [
       "(24983, 24974, 25013)"
      ]
     },
     "execution_count": 75,
     "metadata": {},
     "output_type": "execute_result"
    }
   ],
   "source": [
    "len(start_tone_reason_tot),len(mid_tone_reason_tot),len(end_tone_reason_tot)"
   ]
  },
  {
   "cell_type": "code",
   "execution_count": 76,
   "id": "1b071131",
   "metadata": {},
   "outputs": [
    {
     "data": {
      "text/plain": [
       "74970"
      ]
     },
     "execution_count": 76,
     "metadata": {},
     "output_type": "execute_result"
    }
   ],
   "source": [
    "24983+24974+25013"
   ]
  },
  {
   "cell_type": "code",
   "execution_count": 78,
   "id": "d776d64f",
   "metadata": {},
   "outputs": [],
   "source": [
    "start_reason_len=[len(s.split) for s in start_tone_reason_tot]\n",
    "mid_reason_len=[len(s) for s in mid_tone_reason_tot]\n",
    "end_reason_len=[len(s) for s in end_tone_reason_tot]"
   ]
  },
  {
   "cell_type": "code",
   "execution_count": 81,
   "id": "87502e83",
   "metadata": {},
   "outputs": [
    {
     "name": "stderr",
     "output_type": "stream",
     "text": [
      "100%|███████████████████████████████████████████████████████████████████████████████████████████████████████████████████████████████████████████████████████████████████████████████████████| 24983/24983 [00:00<00:00, 690400.96it/s]\n",
      "100%|███████████████████████████████████████████████████████████████████████████████████████████████████████████████████████████████████████████████████████████████████████████████████████| 24974/24974 [00:00<00:00, 989211.06it/s]\n",
      "100%|██████████████████████████████████████████████████████████████████████████████████████████████████████████████████████████████████████████████████████████████████████████████████████| 25013/25013 [00:00<00:00, 1036629.87it/s]\n"
     ]
    }
   ],
   "source": [
    "import numpy as np\n",
    "\n",
    "\n",
    "start_reason_len=[]\n",
    "for s in tqdm(start_tone_reason_tot):\n",
    "    start_word_list=s.split(\" \")\n",
    "    start_reason_len.append(len(start_word_list))\n",
    "\n",
    "mid_reason_len=[]\n",
    "for s in tqdm(mid_tone_reason_tot):\n",
    "    mid_word_list=s.split(\" \")\n",
    "    mid_reason_len.append(len(mid_word_list))\n",
    "    \n",
    "end_reason_len=[]\n",
    "for s in tqdm(end_tone_reason_tot):\n",
    "    end_word_list=s.split(\" \")\n",
    "    end_reason_len.append(len(end_word_list))    "
   ]
  },
  {
   "cell_type": "code",
   "execution_count": 86,
   "id": "e5e9fe35",
   "metadata": {},
   "outputs": [
    {
     "name": "stdout",
     "output_type": "stream",
     "text": [
      "1\n",
      "7.583837009166233\n",
      "5.263303500912436\n",
      "79\n",
      "1\n",
      "7.8576519580363575\n",
      "5.32583300390706\n",
      "86\n",
      "1\n",
      "7.435173709670971\n",
      "5.035301495542321\n",
      "92\n"
     ]
    }
   ],
   "source": [
    "#start statistics\n",
    "print(np.min(start_reason_len))\n",
    "print(np.mean(start_reason_len))\n",
    "print(np.std(start_reason_len))\n",
    "print(np.max(start_reason_len))\n",
    "\n",
    "print(np.min(mid_reason_len))\n",
    "print(np.mean(mid_reason_len))\n",
    "print(np.std(mid_reason_len))\n",
    "print(np.max(mid_reason_len))\n",
    "\n",
    "print(np.min(end_reason_len))\n",
    "print(np.mean(end_reason_len))\n",
    "print(np.std(end_reason_len))\n",
    "print(np.max(end_reason_len))"
   ]
  },
  {
   "cell_type": "code",
   "execution_count": 95,
   "id": "55836b41",
   "metadata": {},
   "outputs": [
    {
     "name": "stdout",
     "output_type": "stream",
     "text": [
      "Ttest_indResult(statistic=-5.779349685365028, pvalue=7.543448157976759e-09)\n",
      "Ttest_indResult(statistic=9.112878566169263, pvalue=8.310539520339709e-20)\n",
      "Ttest_indResult(statistic=3.226885765194386, pvalue=0.0012522597006676827)\n"
     ]
    },
    {
     "data": {
      "image/png": "[encoded data removed]",
      "text/plain": [
       "<Figure size 640x480 with 1 Axes>"
      ]
     },
     "metadata": {},
     "output_type": "display_data"
    }
   ],
   "source": [
    "#box plot of the three lengths\n",
    "\n",
    "import matplotlib.pyplot as plt\n",
    "from scipy import stats\n",
    "import seaborn as sns\n",
    "sns.set_style('darkgrid')\n",
    "\n",
    "reason_len=[start_reason_len,mid_reason_len,end_reason_len]\n",
    "\n",
    "sns.violinplot(reason_len)\n",
    "\n",
    "#significantly different or not \n",
    "print(stats.ttest_ind(start_reason_len, mid_reason_len))\n",
    "print(stats.ttest_ind(mid_reason_len, end_reason_len))\n",
    "print(stats.ttest_ind(start_reason_len, end_reason_len))"
   ]
  },
  {
   "cell_type": "code",
   "execution_count": null,
   "id": "56a1630e",
   "metadata": {},
   "outputs": [],
   "source": []
  }
 ],
 "metadata": {
  "kernelspec": {
   "display_name": "Python 3 (ipykernel)",
   "language": "python",
   "name": "python3"
  },
  "language_info": {
   "codemirror_mode": {
    "name": "ipython",
    "version": 3
   },
   "file_extension": ".py",
   "mimetype": "text/x-python",
   "name": "python",
   "nbconvert_exporter": "python",
   "pygments_lexer": "ipython3",
   "version": "3.8.16"
  }
 },
 "nbformat": 4,
 "nbformat_minor": 5
}
