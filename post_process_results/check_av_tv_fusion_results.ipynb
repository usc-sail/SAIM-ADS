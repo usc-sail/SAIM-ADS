{
 "cells": [
  {
   "cell_type": "code",
   "execution_count": 73,
   "id": "26c3cb40",
   "metadata": {},
   "outputs": [],
   "source": [
    "import json \n",
    "import os \n",
    "\n",
    "task=\"social_message\"\n",
    "av_file=\"/proj/digbose92/ads_repo/model_files/predictions/class_wise/av_result_\"+task+\".json\"\n",
    "tv_file=\"/proj/digbose92/ads_repo/model_files/predictions/class_wise/tv_result_\"+task+\".json\"\n",
    "a_max_file=\"/proj/digbose92/ads_repo/model_files/predictions/class_wise/\"+task+\"_avg_max_class_wise.json\"\n",
    "d_max_file=\"/proj/digbose92/ads_repo/model_files/predictions/class_wise/\"+task+\"_double_max_class_wise.json\"\n",
    "\n",
    "\n",
    "with open(av_file, \"r\") as f:\n",
    "    av_data=json.load(f)\n",
    "    \n",
    "with open(tv_file, \"r\") as f:\n",
    "    tv_data=json.load(f)\n",
    "    \n",
    "with open(a_max_file, \"r\") as f:\n",
    "    a_max_data=json.load(f)\n",
    "    \n",
    "with open(d_max_file, \"r\") as f:\n",
    "    d_max_data=json.load(f)"
   ]
  },
  {
   "cell_type": "code",
   "execution_count": 74,
   "id": "d6894d57",
   "metadata": {},
   "outputs": [
    {
     "data": {
      "text/plain": [
       "{'run_0': {'seed': 82310,\n",
       "  'accuracy': 0.9060283687943262,\n",
       "  'f1_score': 0.6953991949864982,\n",
       "  'f1_score_class_wise': {'No': 0.9486931268151015, 'Yes': 0.4421052631578947},\n",
       "  'acc_score_class_wise': {'No': 0.9453376205787781,\n",
       "   'Yes': 0.45985401459854014}},\n",
       " 'run_1': {'seed': 55240,\n",
       "  'accuracy': 0.9225768321513003,\n",
       "  'f1_score': 0.7095994434421686,\n",
       "  'f1_score_class_wise': {'No': 0.9582935370900986, 'Yes': 0.4609053497942387},\n",
       "  'acc_score_class_wise': {'No': 0.9678456591639871,\n",
       "   'Yes': 0.40875912408759124}},\n",
       " 'run_2': {'seed': 86541,\n",
       "  'accuracy': 0.9202127659574468,\n",
       "  'f1_score': 0.6913305811368688,\n",
       "  'f1_score_class_wise': {'No': 0.9571292473801207, 'Yes': 0.425531914893617},\n",
       "  'acc_score_class_wise': {'No': 0.9691318327974277,\n",
       "   'Yes': 0.36496350364963503}},\n",
       " 'run_3': {'seed': 88543,\n",
       "  'accuracy': 0.9184397163120568,\n",
       "  'f1_score': 0.7063017282584086,\n",
       "  'f1_score_class_wise': {'No': 0.9559105431309904,\n",
       "   'Yes': 0.45669291338582685},\n",
       "  'acc_score_class_wise': {'No': 0.9620578778135048,\n",
       "   'Yes': 0.4233576642335766}},\n",
       " 'run_4': {'seed': 22371,\n",
       "  'accuracy': 0.9137115839243499,\n",
       "  'f1_score': 0.7000874125874126,\n",
       "  'f1_score_class_wise': {'No': 0.9532051282051281,\n",
       "   'Yes': 0.44696969696969696},\n",
       "  'acc_score_class_wise': {'No': 0.9562700964630225,\n",
       "   'Yes': 0.4306569343065693}}}"
      ]
     },
     "execution_count": 74,
     "metadata": {},
     "output_type": "execute_result"
    }
   ],
   "source": [
    "av_data"
   ]
  },
  {
   "cell_type": "code",
   "execution_count": 75,
   "id": "7d91dcd8",
   "metadata": {},
   "outputs": [
    {
     "data": {
      "text/plain": [
       "{'run_0': {'seed': 55358,\n",
       "  'accuracy': 0.9208037825059102,\n",
       "  'f1_score': 0.7473107014689164,\n",
       "  'f1_score_class_wise': {'No': 0.9566903684550744, 'Yes': 0.5379310344827586},\n",
       "  'acc_score_class_wise': {'No': 0.9517684887459807,\n",
       "   'Yes': 0.5693430656934306}},\n",
       " 'run_1': {'seed': 1066,\n",
       "  'accuracy': 0.9314420803782506,\n",
       "  'f1_score': 0.7249967773935558,\n",
       "  'f1_score_class_wise': {'No': 0.9632678910702975,\n",
       "   'Yes': 0.48672566371681414},\n",
       "  'acc_score_class_wise': {'No': 0.9781350482315112,\n",
       "   'Yes': 0.40145985401459855}},\n",
       " 'run_2': {'seed': 17477,\n",
       "  'accuracy': 0.9237588652482269,\n",
       "  'f1_score': 0.7496762976478967,\n",
       "  'f1_score_class_wise': {'No': 0.9584273283918788, 'Yes': 0.5409252669039145},\n",
       "  'acc_score_class_wise': {'No': 0.9562700964630225,\n",
       "   'Yes': 0.5547445255474452}},\n",
       " 'run_3': {'seed': 17625,\n",
       "  'accuracy': 0.9137115839243499,\n",
       "  'f1_score': 0.7313783399374529,\n",
       "  'f1_score_class_wise': {'No': 0.9526895657809461, 'Yes': 0.5100671140939598},\n",
       "  'acc_score_class_wise': {'No': 0.9453376205787781,\n",
       "   'Yes': 0.5547445255474452}},\n",
       " 'run_4': {'seed': 69486,\n",
       "  'accuracy': 0.9219858156028369,\n",
       "  'f1_score': 0.7479267020906788,\n",
       "  'f1_score_class_wise': {'No': 0.9573918657198192, 'Yes': 0.5384615384615385},\n",
       "  'acc_score_class_wise': {'No': 0.9536977491961415,\n",
       "   'Yes': 0.5620437956204379}}}"
      ]
     },
     "execution_count": 75,
     "metadata": {},
     "output_type": "execute_result"
    }
   ],
   "source": [
    "tv_data"
   ]
  },
  {
   "cell_type": "code",
   "execution_count": 76,
   "id": "eabebc27",
   "metadata": {},
   "outputs": [],
   "source": [
    "#function to compute average of all runs per class\n",
    "from statistics import mean \n",
    "def compute_average_class_wise_metrics_runs(data):\n",
    "    \n",
    "    key_list=list(data.keys())\n",
    "    \n",
    "    #extract class names\n",
    "    class_name_list=list(data[key_list[0]]['f1_score_class_wise'].keys())\n",
    "    dict_f1_list={k:[] for k in class_name_list}\n",
    "    dict_acc_list={k:[] for k in class_name_list}\n",
    "    \n",
    "    for key in key_list:\n",
    "        \n",
    "        #class_wise_f1\n",
    "        \n",
    "        f1_dict=data[key]['f1_score_class_wise']\n",
    "        \n",
    "        \n",
    "        #class_wise_acc\n",
    "        \n",
    "        acc_dict=data[key]['acc_score_class_wise']\n",
    "        \n",
    "        for lb_k in list(f1_dict.keys()):\n",
    "            dict_f1_list[lb_k].append(f1_dict[lb_k])\n",
    "            dict_acc_list[lb_k].append(acc_dict[lb_k])\n",
    "        \n",
    "#     print(dict_f1_list)\n",
    "#     print(dict_acc_list)\n",
    "    \n",
    "    #compute per class mean\n",
    "    mean_dict_f1={k:[] for k in class_name_list}\n",
    "    mean_dict_acc={k:[] for k in class_name_list}\n",
    "    for k in list(dict_f1_list.keys()):\n",
    "        \n",
    "        mean_dict_f1[k]=mean(dict_f1_list[k])\n",
    "        mean_dict_acc[k]=mean(dict_acc_list[k])\n",
    "        \n",
    "    \n",
    "#     print(mean_dict_f1)\n",
    "#     print(mean_dict_acc)\n",
    "    \n",
    "    return(mean_dict_f1,mean_dict_acc)\n",
    "    \n",
    "av_f1,av_acc=compute_average_class_wise_metrics_runs(av_data)\n",
    "tv_f1,tv_acc=compute_average_class_wise_metrics_runs(tv_data)\n",
    "a_max_f1,a_max_acc=compute_average_class_wise_metrics_runs(a_max_data)\n",
    "d_max_f1,d_max_acc=compute_average_class_wise_metrics_runs(d_max_data)"
   ]
  },
  {
   "cell_type": "code",
   "execution_count": 77,
   "id": "11e2b736",
   "metadata": {},
   "outputs": [
    {
     "data": {
      "text/plain": [
       "{'No': 0.9546463165242879, 'Yes': 0.44644102764025484}"
      ]
     },
     "execution_count": 77,
     "metadata": {},
     "output_type": "execute_result"
    }
   ],
   "source": [
    "av_f1"
   ]
  },
  {
   "cell_type": "code",
   "execution_count": 78,
   "id": "75e364a3",
   "metadata": {},
   "outputs": [
    {
     "data": {
      "text/plain": [
       "{'No': 0.9576934038836032, 'Yes': 0.5228221235317971}"
      ]
     },
     "execution_count": 78,
     "metadata": {},
     "output_type": "execute_result"
    }
   ],
   "source": [
    "tv_f1"
   ]
  },
  {
   "cell_type": "code",
   "execution_count": 79,
   "id": "c1900dbc",
   "metadata": {},
   "outputs": [
    {
     "data": {
      "text/plain": [
       "{'No': 0.9594533544870402, 'Yes': 0.5038894913040592}"
      ]
     },
     "execution_count": 79,
     "metadata": {},
     "output_type": "execute_result"
    }
   ],
   "source": [
    "a_max_f1"
   ]
  },
  {
   "cell_type": "code",
   "execution_count": 80,
   "id": "a05513f5",
   "metadata": {},
   "outputs": [
    {
     "data": {
      "text/plain": [
       "{'No': 0.959517909025765, 'Yes': 0.5046240663961438}"
      ]
     },
     "execution_count": 80,
     "metadata": {},
     "output_type": "execute_result"
    }
   ],
   "source": [
    "d_max_f1"
   ]
  },
  {
   "cell_type": "code",
   "execution_count": 81,
   "id": "96f9abd7",
   "metadata": {},
   "outputs": [
    {
     "data": {
      "text/plain": [
       "0.7402577637077001"
      ]
     },
     "execution_count": 81,
     "metadata": {},
     "output_type": "execute_result"
    }
   ],
   "source": [
    " (0.9576934038836032+0.5228221235317971)/2"
   ]
  },
  {
   "cell_type": "code",
   "execution_count": 82,
   "id": "59742072",
   "metadata": {},
   "outputs": [
    {
     "data": {
      "text/plain": [
       "{'No': 0.9601286173633441, 'Yes': 0.41751824817518246}"
      ]
     },
     "execution_count": 82,
     "metadata": {},
     "output_type": "execute_result"
    }
   ],
   "source": [
    "av_acc"
   ]
  },
  {
   "cell_type": "code",
   "execution_count": 83,
   "id": "75a0df42",
   "metadata": {},
   "outputs": [
    {
     "data": {
      "text/plain": [
       "{'No': 0.9570418006430869, 'Yes': 0.5284671532846715}"
      ]
     },
     "execution_count": 83,
     "metadata": {},
     "output_type": "execute_result"
    }
   ],
   "source": [
    "tv_acc"
   ]
  },
  {
   "cell_type": "code",
   "execution_count": 84,
   "id": "c9d34a72",
   "metadata": {},
   "outputs": [
    {
     "data": {
      "text/plain": [
       "{'No': 0.9650675241157556, 'Yes': 0.47094890510948906}"
      ]
     },
     "execution_count": 84,
     "metadata": {},
     "output_type": "execute_result"
    }
   ],
   "source": [
    "a_max_acc "
   ]
  },
  {
   "cell_type": "code",
   "execution_count": 85,
   "id": "aade6053",
   "metadata": {},
   "outputs": [
    {
     "data": {
      "text/plain": [
       "{'No': 0.9651446945337621, 'Yes': 0.47153284671532847}"
      ]
     },
     "execution_count": 85,
     "metadata": {},
     "output_type": "execute_result"
    }
   ],
   "source": [
    "d_max_acc"
   ]
  },
  {
   "cell_type": "code",
   "execution_count": 86,
   "id": "272fa5af",
   "metadata": {},
   "outputs": [],
   "source": [
    "\n",
    "dict_sample_a_max=[]\n",
    "for key in list(a_max_f1.keys()):\n",
    "    if((a_max_f1[key]>av_f1[key]) and (a_max_f1[key]>tv_f1[key])):\n",
    "        dict_sample_a_max.append({'topic':key,'a_max':a_max_f1[key]*100,'av':av_f1[key]*100, 'tv':tv_f1[key]*100})"
   ]
  },
  {
   "cell_type": "code",
   "execution_count": 87,
   "id": "67bd8279",
   "metadata": {},
   "outputs": [
    {
     "data": {
      "text/plain": [
       "1"
      ]
     },
     "execution_count": 87,
     "metadata": {},
     "output_type": "execute_result"
    }
   ],
   "source": [
    "len(dict_sample_a_max)"
   ]
  },
  {
   "cell_type": "code",
   "execution_count": 88,
   "id": "1f6d8ffc",
   "metadata": {},
   "outputs": [
    {
     "data": {
      "text/plain": [
       "[{'topic': 'No',\n",
       "  'a_max': 95.94533544870401,\n",
       "  'av': 95.46463165242879,\n",
       "  'tv': 95.76934038836032}]"
      ]
     },
     "execution_count": 88,
     "metadata": {},
     "output_type": "execute_result"
    }
   ],
   "source": [
    "dict_sample_a_max"
   ]
  },
  {
   "cell_type": "code",
   "execution_count": 89,
   "id": "5cb84a81",
   "metadata": {},
   "outputs": [],
   "source": [
    "dict_sample_d_max=[]\n",
    "for key in list(d_max_f1.keys()):\n",
    "    if((d_max_f1[key]>av_f1[key]) and (d_max_f1[key]>tv_f1[key])):\n",
    "        dict_sample_d_max.append({'topic':key,'d_max':d_max_f1[key]*100,'av':av_f1[key]*100, 'tv':tv_f1[key]*100})"
   ]
  },
  {
   "cell_type": "code",
   "execution_count": 90,
   "id": "3415db3a",
   "metadata": {},
   "outputs": [
    {
     "data": {
      "text/plain": [
       "[{'topic': 'No',\n",
       "  'd_max': 95.95179090257649,\n",
       "  'av': 95.46463165242879,\n",
       "  'tv': 95.76934038836032}]"
      ]
     },
     "execution_count": 90,
     "metadata": {},
     "output_type": "execute_result"
    }
   ],
   "source": [
    "dict_sample_d_max"
   ]
  },
  {
   "cell_type": "code",
   "execution_count": 91,
   "id": "41387076",
   "metadata": {},
   "outputs": [],
   "source": [
    "    import pandas as pd \n",
    "    #def create_df_from_dict(dict_list):\n",
    "    \n",
    "    topic_list=[]\n",
    "    a_max_list=[]\n",
    "    av_list=[]\n",
    "    tv_list=[]\n",
    "    \n",
    "    for i in range(len(dict_sample_a_max)):\n",
    "        \n",
    "        topic_list.append(dict_sample_a_max[i]['topic'])\n",
    "        a_max_list.append(dict_sample_a_max[i]['a_max']*100)\n",
    "        av_list.append(dict_sample_a_max[i]['av']*100)\n",
    "        tv_list.append(dict_sample_a_max[i]['tv']*100)\n",
    "        \n",
    "    df=pd.DataFrame({'Topic':topic_list,\n",
    "                    'A_max':a_max_list,\n",
    "                    'AV-Tx':av_list,\n",
    "                    'TV-Tx':tv_list})\n",
    " \n",
    "        \n",
    "    \n",
    "    "
   ]
  },
  {
   "cell_type": "code",
   "execution_count": 92,
   "id": "506c7242",
   "metadata": {},
   "outputs": [
    {
     "data": {
      "text/html": [
       "<div>\n",
       "<style scoped>\n",
       "    .dataframe tbody tr th:only-of-type {\n",
       "        vertical-align: middle;\n",
       "    }\n",
       "\n",
       "    .dataframe tbody tr th {\n",
       "        vertical-align: top;\n",
       "    }\n",
       "\n",
       "    .dataframe thead th {\n",
       "        text-align: right;\n",
       "    }\n",
       "</style>\n",
       "<table border=\"1\" class=\"dataframe\">\n",
       "  <thead>\n",
       "    <tr style=\"text-align: right;\">\n",
       "      <th></th>\n",
       "      <th>Topic</th>\n",
       "      <th>A_max</th>\n",
       "      <th>AV-Tx</th>\n",
       "      <th>TV-Tx</th>\n",
       "    </tr>\n",
       "  </thead>\n",
       "  <tbody>\n",
       "    <tr>\n",
       "      <th>0</th>\n",
       "      <td>No</td>\n",
       "      <td>9594.533545</td>\n",
       "      <td>9546.463165</td>\n",
       "      <td>9576.934039</td>\n",
       "    </tr>\n",
       "  </tbody>\n",
       "</table>\n",
       "</div>"
      ],
      "text/plain": [
       "  Topic        A_max        AV-Tx        TV-Tx\n",
       "0    No  9594.533545  9546.463165  9576.934039"
      ]
     },
     "execution_count": 92,
     "metadata": {},
     "output_type": "execute_result"
    }
   ],
   "source": [
    "df"
   ]
  },
  {
   "cell_type": "code",
   "execution_count": 93,
   "id": "4381b532",
   "metadata": {},
   "outputs": [],
   "source": [
    "    import pandas as pd \n",
    "    #def create_df_from_dict(dict_list):\n",
    "    \n",
    "    topic_list=[]\n",
    "    d_max_list=[]\n",
    "    av_list=[]\n",
    "    tv_list=[]\n",
    "    \n",
    "    for i in range(len(dict_sample_d_max)):\n",
    "        \n",
    "        topic_list.append(dict_sample_d_max[i]['topic'])\n",
    "        d_max_list.append(dict_sample_d_max[i]['d_max'])\n",
    "        av_list.append(dict_sample_d_max[i]['av'])\n",
    "        tv_list.append(dict_sample_d_max[i]['tv'])\n",
    "        \n",
    "    df=pd.DataFrame({'Topic':topic_list,\n",
    "                    'D_max':d_max_list,\n",
    "                    'AV-Tx':av_list,\n",
    "                    'TV-Tx':tv_list})"
   ]
  },
  {
   "cell_type": "code",
   "execution_count": 94,
   "id": "78f4659d",
   "metadata": {},
   "outputs": [
    {
     "data": {
      "text/html": [
       "<div>\n",
       "<style scoped>\n",
       "    .dataframe tbody tr th:only-of-type {\n",
       "        vertical-align: middle;\n",
       "    }\n",
       "\n",
       "    .dataframe tbody tr th {\n",
       "        vertical-align: top;\n",
       "    }\n",
       "\n",
       "    .dataframe thead th {\n",
       "        text-align: right;\n",
       "    }\n",
       "</style>\n",
       "<table border=\"1\" class=\"dataframe\">\n",
       "  <thead>\n",
       "    <tr style=\"text-align: right;\">\n",
       "      <th></th>\n",
       "      <th>Topic</th>\n",
       "      <th>D_max</th>\n",
       "      <th>AV-Tx</th>\n",
       "      <th>TV-Tx</th>\n",
       "    </tr>\n",
       "  </thead>\n",
       "  <tbody>\n",
       "    <tr>\n",
       "      <th>0</th>\n",
       "      <td>No</td>\n",
       "      <td>95.951791</td>\n",
       "      <td>95.464632</td>\n",
       "      <td>95.76934</td>\n",
       "    </tr>\n",
       "  </tbody>\n",
       "</table>\n",
       "</div>"
      ],
      "text/plain": [
       "  Topic      D_max      AV-Tx     TV-Tx\n",
       "0    No  95.951791  95.464632  95.76934"
      ]
     },
     "execution_count": 94,
     "metadata": {},
     "output_type": "execute_result"
    }
   ],
   "source": [
    "df"
   ]
  },
  {
   "cell_type": "code",
   "execution_count": null,
   "id": "3c5dbf4b",
   "metadata": {},
   "outputs": [],
   "source": []
  }
 ],
 "metadata": {
  "kernelspec": {
   "display_name": "Python 3 (ipykernel)",
   "language": "python",
   "name": "python3"
  },
  "language_info": {
   "codemirror_mode": {
    "name": "ipython",
    "version": 3
   },
   "file_extension": ".py",
   "mimetype": "text/x-python",
   "name": "python",
   "nbconvert_exporter": "python",
   "pygments_lexer": "ipython3",
   "version": "3.8.13"
  }
 },
 "nbformat": 4,
 "nbformat_minor": 5
}
